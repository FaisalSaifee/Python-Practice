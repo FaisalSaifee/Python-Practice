{
 "cells": [
  {
   "cell_type": "code",
   "execution_count": 9,
   "metadata": {},
   "outputs": [
    {
     "name": "stdout",
     "output_type": "stream",
     "text": [
      "\n",
      "\n",
      " Column Names \n",
      "\n",
      "\n",
      "Index(['sepal.length', 'sepal.width', 'petal.length', 'petal.width',\n",
      "       'Species'],\n",
      "      dtype='object')\n",
      "Predict values ['Virginica' 'Versicolor' 'Setosa' 'Virginica' 'Setosa' 'Virginica'\n",
      " 'Setosa' 'Versicolor' 'Versicolor' 'Versicolor' 'Virginica' 'Versicolor'\n",
      " 'Versicolor' 'Versicolor' 'Versicolor' 'Setosa' 'Versicolor' 'Versicolor'\n",
      " 'Setosa' 'Setosa' 'Virginica' 'Virginica' 'Setosa' 'Setosa' 'Virginica'\n",
      " 'Setosa' 'Setosa' 'Versicolor' 'Versicolor' 'Setosa']\n",
      "Accuracy Score\n",
      "0.9666666666666667\n"
     ]
    },
    {
     "name": "stderr",
     "output_type": "stream",
     "text": [
      "C:\\ProgramData\\Anaconda3\\lib\\site-packages\\sklearn\\preprocessing\\label.py:151: DeprecationWarning: The truth value of an empty array is ambiguous. Returning False, but in future this will result in an error. Use `array.size > 0` to check that an array is not empty.\n",
      "  if diff:\n"
     ]
    }
   ],
   "source": [
    "import pandas as pd\n",
    "from sklearn.linear_model import LogisticRegression\n",
    "from sklearn.model_selection import train_test_split\n",
    "from sklearn.preprocessing import LabelEncoder\n",
    "from sklearn.metrics import accuracy_score\n",
    "\n",
    "#Read CSV\n",
    "\n",
    "data = pd.read_csv('iris.csv')\n",
    "\n",
    "print('\\n\\n Column Names \\n\\n')\n",
    "print(data.columns)\n",
    "\n",
    "encode = LabelEncoder()\n",
    "\n",
    "data.Species = encode.fit_transform(data.Species)\n",
    "\n",
    "train, test = train_test_split(data, test_size = 0.2, random_state=0)\n",
    "\n",
    "train_x = train.drop(columns = ['Species'], axis = 1)\n",
    "train_y = train['Species']\n",
    "\n",
    "test_x = test.drop(columns = ['Species'], axis = 1)\n",
    "test_y = test['Species']\n",
    "\n",
    "\n",
    "model = LogisticRegression()\n",
    "\n",
    "model.fit(train_x, train_y)\n",
    "\n",
    "predict = model.predict(test_x)\n",
    "\n",
    "\n",
    "print('Predict values', encode.inverse_transform(predict))\n",
    "\n",
    "\n",
    "print('Accuracy Score')\n",
    "print(accuracy_score(test_y, predict))\n"
   ]
  },
  {
   "cell_type": "code",
   "execution_count": null,
   "metadata": {},
   "outputs": [],
   "source": []
  },
  {
   "cell_type": "code",
   "execution_count": null,
   "metadata": {},
   "outputs": [],
   "source": []
  }
 ],
 "metadata": {
  "kernelspec": {
   "display_name": "Python 3",
   "language": "python",
   "name": "python3"
  },
  "language_info": {
   "codemirror_mode": {
    "name": "ipython",
    "version": 3
   },
   "file_extension": ".py",
   "mimetype": "text/x-python",
   "name": "python",
   "nbconvert_exporter": "python",
   "pygments_lexer": "ipython3",
   "version": "3.6.5"
  }
 },
 "nbformat": 4,
 "nbformat_minor": 2
}
