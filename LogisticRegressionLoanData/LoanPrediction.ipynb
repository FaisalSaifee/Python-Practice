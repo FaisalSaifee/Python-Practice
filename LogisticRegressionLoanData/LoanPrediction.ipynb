{
 "cells": [
  {
   "cell_type": "code",
   "execution_count": 25,
   "metadata": {},
   "outputs": [
    {
     "name": "stdout",
     "output_type": "stream",
     "text": [
      "\n",
      "\n",
      " Column Names \n",
      "\n",
      "\n",
      "Index(['Loan_ID', 'Gender', 'Married', 'Dependents', 'Education',\n",
      "       'Self_Employed', 'ApplicantIncome', 'CoapplicantIncome', 'LoanAmount',\n",
      "       'Loan_Amount_Term', 'Credit_History', 'Property_Area', 'loan_status'],\n",
      "      dtype='object')\n",
      "shape of training data :  (384, 20)\n",
      "shape of testing data :  (96, 20)\n",
      "Predicted Values on Test Data [1 1 1 1 1 1 1 1 1 1 1 1 0 1 1 1 1 1 0 1 1 1 1 1 0 1 1 1 1 1 1 1 1 1 1 1 1\n",
      " 1 1 0 1 1 1 1 1 1 1 1 1 1 1 1 1 1 1 1 0 0 0 0 1 1 0 1 1 1 1 1 1 1 1 1 1 0\n",
      " 1 1 1 1 1 1 1 1 1 0 1 1 0 1 1 0 1 0 1 1 1 1]\n",
      "\n",
      "\n",
      "Accuracy Score on test data : \n",
      "\n",
      "\n",
      "0.7604166666666666\n"
     ]
    }
   ],
   "source": [
    "import pandas as pd\n",
    "from sklearn.linear_model import LogisticRegression\n",
    "from sklearn.model_selection import train_test_split\n",
    "from sklearn.preprocessing import LabelEncoder\n",
    "from sklearn.metrics import accuracy_score\n",
    "\n",
    "#read dataset\n",
    "\n",
    "data = pd.read_csv('LoanDataStatus.csv')\n",
    "\n",
    "print('\\n\\n Column Names \\n\\n')\n",
    "print(data.columns)\n",
    "\n",
    "#print(data.head())\n",
    "#label encode the target variable\n",
    "encode = LabelEncoder()\n",
    "data.loan_status = encode.fit_transform(data.loan_status)\n",
    "\n",
    "\n",
    "data.dropna(how='any', inplace=True)\n",
    "\n",
    "# train-test-split   \n",
    "train , test = train_test_split(data,test_size=0.2,random_state=0)\n",
    "\n",
    "\n",
    "# seperate the target and independent variable\n",
    "train_x = train.drop(columns=['Loan_ID','loan_status'],axis=1)\n",
    "train_y = train['loan_status']\n",
    "\n",
    "test_x = test.drop(columns=['Loan_ID','loan_status'],axis=1)\n",
    "test_y = test['loan_status']\n",
    "\n",
    "# encode the data\n",
    "train_x = pd.get_dummies(train_x)\n",
    "test_x  = pd.get_dummies(test_x)\n",
    "\n",
    "print('shape of training data : ',train_x.shape)\n",
    "print('shape of testing data : ',test_x.shape)\n",
    "\n",
    "# create the object of the model\n",
    "model = LogisticRegression()\n",
    "\n",
    "#train.to_csv('file2.csv')\n",
    "\n",
    "#train_y.to_csv('file1.csv')\n",
    "#print(train_y)\n",
    "model.fit(train_x,train_y)\n",
    "\n",
    "predict = model.predict(test_x)\n",
    "\n",
    "print('Predicted Values on Test Data',predict)\n",
    "\n",
    "print('\\n\\nAccuracy Score on test data : \\n\\n')\n",
    "print(accuracy_score(test_y,predict))"
   ]
  },
  {
   "cell_type": "code",
   "execution_count": null,
   "metadata": {},
   "outputs": [],
   "source": []
  },
  {
   "cell_type": "code",
   "execution_count": null,
   "metadata": {},
   "outputs": [],
   "source": []
  }
 ],
 "metadata": {
  "kernelspec": {
   "display_name": "Python 3",
   "language": "python",
   "name": "python3"
  },
  "language_info": {
   "codemirror_mode": {
    "name": "ipython",
    "version": 3
   },
   "file_extension": ".py",
   "mimetype": "text/x-python",
   "name": "python",
   "nbconvert_exporter": "python",
   "pygments_lexer": "ipython3",
   "version": "3.6.5"
  }
 },
 "nbformat": 4,
 "nbformat_minor": 2
}
