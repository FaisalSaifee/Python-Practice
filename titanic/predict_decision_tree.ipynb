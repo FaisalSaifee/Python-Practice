{
 "cells": [
  {
   "cell_type": "code",
   "execution_count": 8,
   "metadata": {},
   "outputs": [
    {
     "name": "stdout",
     "output_type": "stream",
     "text": [
      "0.9797979797979798\n",
      "[0.66666667 0.61111111 0.66666667 0.88888889 0.94444444 0.94444444\n",
      " 0.72222222 0.77777778 0.72222222 0.77777778 0.72222222 0.61111111\n",
      " 0.72222222 0.77777778 0.55555556 0.83333333 1.         0.66666667\n",
      " 0.77777778 0.77777778 0.88888889 0.77777778 0.88888889 0.72222222\n",
      " 0.55555556 0.83333333 0.94444444 0.88888889 0.66666667 0.83333333\n",
      " 0.72222222 0.66666667 0.88888889 0.94444444 0.88888889 0.77777778\n",
      " 0.72222222 0.72222222 0.72222222 0.77777778 0.88888889 0.83333333\n",
      " 0.76470588 0.88235294 0.70588235 0.76470588 0.82352941 0.82352941\n",
      " 0.88235294 0.875     ]\n",
      "0.7848856209150326\n",
      "[0.77777778 0.66666667 0.77777778 0.94444444 0.83333333 0.88888889\n",
      " 0.61111111 0.83333333 0.88888889 0.88888889 0.72222222 0.66666667\n",
      " 0.83333333 0.77777778 0.72222222 0.83333333 0.94444444 0.72222222\n",
      " 0.94444444 0.83333333 0.88888889 0.83333333 0.83333333 0.88888889\n",
      " 0.94444444 0.83333333 0.83333333 0.83333333 0.77777778 0.88888889\n",
      " 0.72222222 0.66666667 0.88888889 0.88888889 0.83333333 0.77777778\n",
      " 0.72222222 0.66666667 0.88888889 0.77777778 0.83333333 0.88888889\n",
      " 0.88235294 0.94117647 0.82352941 0.70588235 0.88235294 0.82352941\n",
      " 1.         0.9375    ]\n",
      "0.8243709150326798\n"
     ]
    }
   ],
   "source": [
    "import pandas as pd\n",
    "import utils\n",
    "from sklearn import tree, model_selection\n",
    "\n",
    "train = pd.read_csv(\"train.csv\")\n",
    "utils.clean_data(train)\n",
    "#print(train.head())\n",
    "\n",
    "target = train[\"Survived\"].values\n",
    "feature_names = [\"Pclass\", \"Age\", \"Fare\",\"Embarked\", \"Sex\", \"SibSp\", \"Parch\"]\n",
    "features = train[feature_names] .values\n",
    "\n",
    "decision_tree = tree.DecisionTreeClassifier(random_state = 1)\n",
    "decision_tree_ = decision_tree.fit(features, target)\n",
    "\n",
    "print(decision_tree_.score(features, target))\n",
    "\n",
    "scores = model_selection.cross_val_score(decision_tree, features, target, scoring='accuracy', cv=50)\n",
    "\n",
    "print(scores)\n",
    "print(scores.mean())\n",
    "\n",
    "\n",
    "generalized_tree = tree.DecisionTreeClassifier(random_state = 1, max_depth = 7, min_samples_split = 2)\n",
    "\n",
    "generalized_tree_ = generalized_tree.fit(features, target)\n",
    "scores = model_selection.cross_val_score(generalized_tree, features, target, scoring='accuracy', cv=50)\n",
    "print(scores)\n",
    "print(scores.mean())\n",
    "\n",
    "tree.export_graphviz(generalized_tree_, feature_names=feature_names, out_file=\"tree.dot\")"
   ]
  }
 ],
 "metadata": {
  "kernelspec": {
   "display_name": "Python 3",
   "language": "python",
   "name": "python3"
  },
  "language_info": {
   "codemirror_mode": {
    "name": "ipython",
    "version": 3
   },
   "file_extension": ".py",
   "mimetype": "text/x-python",
   "name": "python",
   "nbconvert_exporter": "python",
   "pygments_lexer": "ipython3",
   "version": "3.6.5"
  }
 },
 "nbformat": 4,
 "nbformat_minor": 2
}
