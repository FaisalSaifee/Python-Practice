{
 "cells": [
  {
   "cell_type": "code",
   "execution_count": 17,
   "metadata": {},
   "outputs": [
    {
     "name": "stdout",
     "output_type": "stream",
     "text": [
      "0.7991021324354658\n",
      "0.8316498316498316\n"
     ]
    }
   ],
   "source": [
    "import pandas as pd\n",
    "import utils\n",
    "from sklearn import linear_model, preprocessing\n",
    "\n",
    "train = pd.read_csv(\"train.csv\")\n",
    "utils.clean_data(train)\n",
    "#print(train.head())\n",
    "\n",
    "target = train[\"Survived\"].values\n",
    "feature_names = [\"Pclass\", \"Age\", \"Fare\",\"Embarked\", \"Sex\", \"SibSp\", \"Parch\"]\n",
    "features = train[feature_names] .values\n",
    "\n",
    "classifier = linear_model.LogisticRegression()\n",
    "classifier_ = classifier.fit(features, target)\n",
    "\n",
    "print(classifier_.score(features, target))\n",
    "#print(classifier_)\n",
    "\n",
    "poly = preprocessing.PolynomialFeatures(degree=2)\n",
    "poly_features = poly.fit_transform(features)\n",
    "\n",
    "classifier_ = classifier.fit(poly_features, target)\n",
    "print(classifier_.score(poly_features, target))\n",
    "\n",
    "#print(features)"
   ]
  },
  {
   "cell_type": "code",
   "execution_count": null,
   "metadata": {},
   "outputs": [],
   "source": []
  }
 ],
 "metadata": {
  "kernelspec": {
   "display_name": "Python 3",
   "language": "python",
   "name": "python3"
  },
  "language_info": {
   "codemirror_mode": {
    "name": "ipython",
    "version": 3
   },
   "file_extension": ".py",
   "mimetype": "text/x-python",
   "name": "python",
   "nbconvert_exporter": "python",
   "pygments_lexer": "ipython3",
   "version": "3.6.5"
  }
 },
 "nbformat": 4,
 "nbformat_minor": 2
}
