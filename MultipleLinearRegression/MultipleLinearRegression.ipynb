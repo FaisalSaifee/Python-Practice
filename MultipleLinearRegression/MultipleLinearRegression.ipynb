{
 "cells": [
  {
   "cell_type": "code",
   "execution_count": 6,
   "metadata": {},
   "outputs": [
    {
     "name": "stdout",
     "output_type": "stream",
     "text": [
      "[104054.44293869 132719.3459701  133640.26830949  72294.76911458\n",
      " 179685.62227843 114508.97572031  66305.23069863  98297.69326565\n",
      " 114277.91894933 169112.36095691  96257.40152149  87916.97242208\n",
      " 110687.33942598  90670.8337806  127780.63539583]\n",
      "[103282.38 144259.4  146121.95  77798.83 191050.39 105008.31  81229.06\n",
      "  97483.56 110352.25 166187.94  96778.92  96479.51 105733.54  96712.8\n",
      " 124266.9 ]\n"
     ]
    }
   ],
   "source": [
    "\n",
    "#import the libraries\n",
    "import numpy as py\n",
    "import matplotlib.pyplot as plt\n",
    "import pandas as pd\n",
    "\n",
    "#Import the data set from Desktop\n",
    "dataset = pd.read_csv('M_Regression.csv')\n",
    "X=dataset.iloc[:,:-1].values\n",
    "y=dataset.iloc[:,3].values\n",
    "\n",
    "#Training and Testing Data (divide the data into two part)\n",
    "from sklearn.model_selection import train_test_split\n",
    "X_train, X_test, y_train, y_test =train_test_split(X,y,test_size=0.3, random_state=0)\n",
    "\n",
    "#regression\n",
    "from sklearn.linear_model import LinearRegression\n",
    "reg = LinearRegression()\n",
    "reg.fit(X_train,y_train)\n",
    "\n",
    "#for predict the test values\n",
    "y_predict=reg.predict(X_test)\n",
    "\n",
    "print(y_predict)\n",
    "print(y_test)\n",
    "\n",
    "\n",
    "# Since there is more then one independent variable, graphs can not be plotted\n"
   ]
  },
  {
   "cell_type": "code",
   "execution_count": null,
   "metadata": {},
   "outputs": [],
   "source": []
  },
  {
   "cell_type": "code",
   "execution_count": null,
   "metadata": {},
   "outputs": [],
   "source": []
  }
 ],
 "metadata": {
  "kernelspec": {
   "display_name": "Python 3",
   "language": "python",
   "name": "python3"
  },
  "language_info": {
   "codemirror_mode": {
    "name": "ipython",
    "version": 3
   },
   "file_extension": ".py",
   "mimetype": "text/x-python",
   "name": "python",
   "nbconvert_exporter": "python",
   "pygments_lexer": "ipython3",
   "version": "3.6.5"
  }
 },
 "nbformat": 4,
 "nbformat_minor": 2
}
